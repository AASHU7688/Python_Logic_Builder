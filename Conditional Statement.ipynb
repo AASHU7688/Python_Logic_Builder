{
 "cells": [
  {
   "cell_type": "markdown",
   "id": "e4b78289-7ccc-4893-91f6-a8888b1ffbf5",
   "metadata": {},
   "source": [
    "1) Write a program to find the greatest of four number entered by the user."
   ]
  },
  {
   "cell_type": "code",
   "execution_count": 13,
   "id": "f11ef92b-d747-41d9-a4bb-05aa10f49788",
   "metadata": {},
   "outputs": [
    {
     "name": "stdin",
     "output_type": "stream",
     "text": [
      "Enter a first number:  2\n",
      "Enter a second number:  3\n",
      "Enter a third number:  4\n",
      "Enter a fourth number:  5\n"
     ]
    },
    {
     "name": "stdout",
     "output_type": "stream",
     "text": [
      "d is greatest among four 5\n"
     ]
    }
   ],
   "source": [
    "a=int(input(\"Enter a first number: \"))\n",
    "b=int(input(\"Enter a second number: \"))\n",
    "c=int(input(\"Enter a third number: \"))\n",
    "d=int(input(\"Enter a fourth number: \"))\n",
    "if a>b and b>c and c>d:\n",
    "    print(\"a is greatest among four\",a)\n",
    "elif b>a and a>c and c>d:\n",
    "    print(\"b is greatest among four\",b)\n",
    "elif c>a and c>b and b>d:\n",
    "    print(\"c is greatest among four\",c)\n",
    "elif d>a and d>b and d>c:\n",
    "    print(\"d is greatest among four\",d)"
   ]
  },
  {
   "cell_type": "markdown",
   "id": "3f8b8339-71ae-4b1f-aac9-eabf812e7ab9",
   "metadata": {},
   "source": [
    "2) Write a program to find out whether a student has passed or failed if it require a total of 40% and atleast 33% in each subject to pass. Assume 3 subject and take marks as an input from the user."
   ]
  },
  {
   "cell_type": "code",
   "execution_count": 26,
   "id": "ee712c77-8257-4e7b-af84-e1e5da498c9d",
   "metadata": {},
   "outputs": [
    {
     "name": "stdin",
     "output_type": "stream",
     "text": [
      "enter a sub1 number:  44\n",
      "enter a sub2 number:  55\n",
      "enter a sub3 number:  33\n"
     ]
    },
    {
     "name": "stdout",
     "output_type": "stream",
     "text": [
      "it is overall pass 44.0\n"
     ]
    }
   ],
   "source": [
    "sub1=int(input(\"enter a sub1 number: \"))\n",
    "sub2=int(input(\"enter a sub2 number: \"))\n",
    "sub3=int(input(\"enter a sub3 number: \"))\n",
    "\n",
    "total_percentage = ((sub1+sub2+sub3)/300)*100\n",
    "\n",
    "sub1_percentage = ((sub1)/100)*100\n",
    "sub2_percentage = ((sub2)/100)*100\n",
    "sub3_percentage = ((sub3)/100)*100\n",
    "\n",
    "if total_percentage >= 40 and sub1_percentage>=33 and sub2_percentage>=33 and sub3_percentage>=33 :\n",
    "    print(\"it is overall pass\",total_percentage)\n",
    "else:\n",
    "    print(\"it is fail\",total_percentage)\n",
    "\n"
   ]
  },
  {
   "cell_type": "markdown",
   "id": "6d63f6e2-b35b-4880-9590-9c42959ceb4c",
   "metadata": {},
   "source": [
    "3) A spam comment is defined as a text containg following keywords:\n",
    "\"Make a lot of money\",\"buy now\",\"subscribe this\",\"click this\". Write a program to detect these spam"
   ]
  },
  {
   "cell_type": "code",
   "execution_count": 29,
   "id": "6126b1d1-535a-40d8-aa21-7861b19f65ab",
   "metadata": {},
   "outputs": [
    {
     "name": "stdin",
     "output_type": "stream",
     "text": [
      "Enter a comment:  hyy buy now this is for you\n"
     ]
    },
    {
     "name": "stdout",
     "output_type": "stream",
     "text": [
      "this is spam\n"
     ]
    }
   ],
   "source": [
    "p1=\"Make a lot of money\"\n",
    "p2=\"buy now\"\n",
    "p3=\"subscribe this\"\n",
    "p4=\"click this\"\n",
    "message=input(\"Enter a comment: \")\n",
    "if(p1 in message or p2 in message or p3 in message or p4 in message):\n",
    "    print(\"this is spam\")\n",
    "else:\n",
    "    print(\"this is not spam\")"
   ]
  },
  {
   "cell_type": "markdown",
   "id": "a0b1caad-e1aa-41cc-b761-86ac580bb357",
   "metadata": {},
   "source": [
    "4) Write a program to find out whether a given number username contains less than 10 character or not.\n"
   ]
  },
  {
   "cell_type": "code",
   "execution_count": 34,
   "id": "6cfb16bb-d805-4ae2-9785-dceb07f3e342",
   "metadata": {},
   "outputs": [
    {
     "name": "stdin",
     "output_type": "stream",
     "text": [
      "Enter your usename:  aashu78\n"
     ]
    },
    {
     "name": "stdout",
     "output_type": "stream",
     "text": [
      "it contain less then 10 character \n"
     ]
    }
   ],
   "source": [
    "username=input(\"Enter your usename: \")\n",
    "len=len(username)\n",
    "if len<10:\n",
    "    print(\"it contain less then 10 character \")\n",
    "else:\n",
    "    print(\"it is more then 10 character \")"
   ]
  },
  {
   "cell_type": "markdown",
   "id": "4d2a1f18-2c99-47d4-8966-29b5550b7d5b",
   "metadata": {},
   "source": [
    "5) Write a program to calculate the grade of a student from his marks from the following scheme:\n",
    "90-100=>Ex\n",
    "80-90=>A\n",
    "70-80=>B\n",
    "60-70=>C\n",
    "50-60=>D\n",
    "<50 =>F"
   ]
  },
  {
   "cell_type": "code",
   "execution_count": 47,
   "id": "c33f71ed-5ba3-4273-b61c-6a696f7d29e6",
   "metadata": {},
   "outputs": [
    {
     "name": "stdin",
     "output_type": "stream",
     "text": [
      "enter your marks:  60\n"
     ]
    },
    {
     "name": "stdout",
     "output_type": "stream",
     "text": [
      "D\n"
     ]
    }
   ],
   "source": [
    "marks=int(input(\"enter your marks: \"))\n",
    "if marks>90 and marks<=100:\n",
    "    print(\"Ex\")\n",
    "elif marks>80 and marks<=90:\n",
    "    print(\"A\")\n",
    "elif marks>70 and marks<=80:\n",
    "    print(\"B\")\n",
    "elif marks>60 and marks<=70:\n",
    "    print(\"C\")\n",
    "elif marks>50 and marks<=60:\n",
    "    print(\"D\")\n",
    "elif marks<50:\n",
    "    print(\"F\")"
   ]
  },
  {
   "cell_type": "markdown",
   "id": "ede60de7-6c7c-49ad-8af3-8bc37fcb4e95",
   "metadata": {},
   "source": [
    "6) Take 3 int inputs from user and check and print the result.\n",
    "\tall are equal\n",
    "\tany of two are equal\n",
    "\t( use and or )\n"
   ]
  },
  {
   "cell_type": "code",
   "execution_count": 8,
   "id": "4ff148ab-670b-4584-b6ec-44226289763f",
   "metadata": {},
   "outputs": [
    {
     "name": "stdin",
     "output_type": "stream",
     "text": [
      "Enter a first number:  6\n",
      "Enter a second number:  7\n",
      "Enter a third number:  8\n"
     ]
    },
    {
     "name": "stdout",
     "output_type": "stream",
     "text": [
      "none of them are equal\n"
     ]
    }
   ],
   "source": [
    "a=int(input(\"Enter a first number: \"))\n",
    "b=int(input(\"Enter a second number: \"))\n",
    "c=int(input(\"Enter a third number: \"))\n",
    "if ((a==b) and (b==c)):\n",
    "    print(\"all are equal\")\n",
    "elif((a==b) or (b==c)):\n",
    "    print(\"any two are equal\")\n",
    "else:\n",
    "    print(\"none of them are equal\")"
   ]
  },
  {
   "cell_type": "markdown",
   "id": "a2b29d84-dc51-444c-8e5d-5272ddf6db04",
   "metadata": {},
   "source": [
    "7) Accept the gender from the user as char and print the respective greeting message\n",
    "     Ex - Good Morning Sir (on the basis of gender)\n"
   ]
  },
  {
   "cell_type": "code",
   "execution_count": 35,
   "id": "bb777602-3364-45af-904a-3969a709e34e",
   "metadata": {},
   "outputs": [
    {
     "name": "stdin",
     "output_type": "stream",
     "text": [
      "Enter what is your gender:  male\n"
     ]
    },
    {
     "name": "stdout",
     "output_type": "stream",
     "text": [
      "Good Morning Sir\n"
     ]
    }
   ],
   "source": [
    "gender=input(\"Enter what is your gender: \")\n",
    "gender=gender.lower()\n",
    "if gender==\"male\":\n",
    "    print(\"Good Morning Sir\")\n",
    "else:\n",
    "    print(\"Good Morning Maam\")\n"
   ]
  },
  {
   "cell_type": "markdown",
   "id": "08203f0c-0833-48cc-903d-c4303c538aad",
   "metadata": {},
   "source": [
    "8) Extend the previous program and handle the wrong inputs.\n",
    "      Print Good Morning sir for input m or M & Good morning Maam for input F or f \n",
    "      else print Wrong Input\n"
   ]
  },
  {
   "cell_type": "code",
   "execution_count": 38,
   "id": "b4c81a96-e534-483e-b55e-d1e990b64ae1",
   "metadata": {},
   "outputs": [
    {
     "name": "stdin",
     "output_type": "stream",
     "text": [
      "Enter 'M' or 'F' to specify gender:  m\n"
     ]
    },
    {
     "name": "stdout",
     "output_type": "stream",
     "text": [
      "Good Morning Sir\n"
     ]
    }
   ],
   "source": [
    "\n",
    "gender = input(\"Enter 'M' or 'F' to specify gender: \")\n",
    "\n",
    "if gender.lower() == 'm':  \n",
    "    print(\"Good Morning Sir\")\n",
    "elif gender.lower() == 'f':  \n",
    "    print(\"Good Morning Ma'am\")\n",
    "else:\n",
    "    print(\"Wrong Input\")"
   ]
  },
  {
   "cell_type": "markdown",
   "id": "8652a239-b887-467b-8523-da26397bc07b",
   "metadata": {},
   "source": [
    "9) Accept an integer and check whether it is an even number or odd.\n"
   ]
  },
  {
   "cell_type": "code",
   "execution_count": 43,
   "id": "4ddc03e2-aabb-4769-81fb-4fc15493adfd",
   "metadata": {},
   "outputs": [
    {
     "name": "stdin",
     "output_type": "stream",
     "text": [
      "Enter a number 1\n"
     ]
    },
    {
     "name": "stdout",
     "output_type": "stream",
     "text": [
      "1 is odd\n"
     ]
    }
   ],
   "source": [
    "n=int(input(\"Enter a number\"))\n",
    "if n%2==0:\n",
    "    print(f\"{n} is even\")\n",
    "else:\n",
    "    print(f\"{n} is odd\")"
   ]
  },
  {
   "cell_type": "markdown",
   "id": "b3e3aa9f-96c2-4fd4-96ec-9df25d94fb48",
   "metadata": {},
   "source": [
    "10) Accept name and age from the user. Check if the user is a valid voter or not.\n",
    "      Vaid - Hello Shery, You are a valid voter.\n",
    "      Invalid - Sorry Shery, you can't cast the vote.\n",
    "\tPart 2 - Print after how many years the user will be eligible\n"
   ]
  },
  {
   "cell_type": "code",
   "execution_count": 52,
   "id": "955b1a28-6a88-408b-90f3-e1b09733741a",
   "metadata": {},
   "outputs": [
    {
     "name": "stdin",
     "output_type": "stream",
     "text": [
      "Enter your name : aashu\n",
      "enter your age:  13\n"
     ]
    },
    {
     "name": "stdout",
     "output_type": "stream",
     "text": [
      "Sorry aashu, you can't cast the vote\n",
      "you can vote after 5\n"
     ]
    }
   ],
   "source": [
    "name=input(\"Enter your name :\")\n",
    "age=int(input(\"enter your age: \"))\n",
    "if age>=18:\n",
    "    print(f\"Hello {name}, You are a valid voter\")\n",
    "else:\n",
    "    print(f\"Sorry {name}, you can't cast the vote\")\n",
    "    eligible=18-age\n",
    "    print(f\"you can vote after {eligible}\")"
   ]
  },
  {
   "cell_type": "markdown",
   "id": "b1f0d2b8-9079-4ad5-b400-9d34f50ce8bc",
   "metadata": {},
   "source": [
    "11) Accept a year and check if it a leap year or not "
   ]
  },
  {
   "cell_type": "code",
   "execution_count": 61,
   "id": "f08b805d-1c56-4cd2-8c2d-e62b839d6214",
   "metadata": {},
   "outputs": [
    {
     "name": "stdin",
     "output_type": "stream",
     "text": [
      "Enter a year:  2004\n"
     ]
    },
    {
     "name": "stdout",
     "output_type": "stream",
     "text": [
      "2004 it is a leap year\n"
     ]
    }
   ],
   "source": [
    "y=int(input(\"Enter a year: \"))\n",
    "if (y%400==0)and(y%100==0):\n",
    "    print(y,\"is a leap year\")\n",
    "elif(y%4==0) and (y%100!=0):\n",
    "    print(y,\"it is a leap year\")\n",
    "else:\n",
    "    print(y,\"it is not leap year\")"
   ]
  },
  {
   "cell_type": "markdown",
   "id": "96f2561b-2013-4e80-9cb8-8eb79f1d404c",
   "metadata": {},
   "source": [
    "12) Accept an english alphabet from user and check if it is a consonent or a vowel"
   ]
  },
  {
   "cell_type": "code",
   "execution_count": 70,
   "id": "bf668727-f5e2-47d0-9a12-783e6e8871ef",
   "metadata": {},
   "outputs": [
    {
     "name": "stdin",
     "output_type": "stream",
     "text": [
      "Enter any alphabet:  b\n"
     ]
    },
    {
     "name": "stdout",
     "output_type": "stream",
     "text": [
      "b is consonent\n"
     ]
    }
   ],
   "source": [
    "alphabet=input(\"Enter any alphabet: \")\n",
    "alphabet=alphabet.lower()\n",
    "if alphabet==\"a\" or alphabet==\"i\" or alphabet==\"e\" or alphabet==\"o\" or alphabet==\"u\":\n",
    "    print(alphabet,\"is vowel\")\n",
    "else:\n",
    "    print(alphabet,\"is consonent\")"
   ]
  },
  {
   "cell_type": "code",
   "execution_count": null,
   "id": "dd9e7088-6418-4081-a37b-d5a185c60fbf",
   "metadata": {},
   "outputs": [],
   "source": []
  }
 ],
 "metadata": {
  "kernelspec": {
   "display_name": "Python 3 (ipykernel)",
   "language": "python",
   "name": "python3"
  },
  "language_info": {
   "codemirror_mode": {
    "name": "ipython",
    "version": 3
   },
   "file_extension": ".py",
   "mimetype": "text/x-python",
   "name": "python",
   "nbconvert_exporter": "python",
   "pygments_lexer": "ipython3",
   "version": "3.11.7"
  }
 },
 "nbformat": 4,
 "nbformat_minor": 5
}
