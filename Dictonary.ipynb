{
 "cells": [
  {
   "cell_type": "markdown",
   "id": "ce38cb15-f370-4b68-abbf-e78e426e1bb4",
   "metadata": {},
   "source": [
    "1. Write a program to create a dictonary of hindi words with values as their english translation. Provide user with an option to look it up"
   ]
  },
  {
   "cell_type": "code",
   "execution_count": 14,
   "id": "2907a23d-a5f8-4041-b8bb-69b1e3c4e1d5",
   "metadata": {},
   "outputs": [
    {
     "name": "stdin",
     "output_type": "stream",
     "text": [
      "enter the wrod you want meaning of:  namste\n"
     ]
    },
    {
     "name": "stdout",
     "output_type": "stream",
     "text": [
      "hello\n"
     ]
    }
   ],
   "source": [
    "words={\n",
    "    \"namste\":\"hello\",\n",
    "    \"kursi\":\"chairs\",\n",
    "    \"billi\":\"cat\"\n",
    "}\n",
    "word = input(\"enter the wrod you want meaning of: \")\n",
    "print(words[word])"
   ]
  },
  {
   "cell_type": "markdown",
   "id": "6964b678-6734-49c5-a400-065f681598c8",
   "metadata": {},
   "source": [
    "2. Write a program to input eight numbers from the user and display all the unique number(once)"
   ]
  },
  {
   "cell_type": "code",
   "execution_count": 21,
   "id": "76e98f0a-2504-40df-96c8-7febf1ffe0f3",
   "metadata": {},
   "outputs": [
    {
     "name": "stdin",
     "output_type": "stream",
     "text": [
      "enter how many number:  5\n",
      "Enter number 1:  1\n",
      "Enter number 2:  2\n",
      "Enter number 3:  3\n",
      "Enter number 4:  4\n",
      "Enter number 5:  5\n"
     ]
    }
   ],
   "source": [
    "n=int(input(\"enter how many number: \"))\n",
    "s=set()\n",
    "for i in range(n):\n",
    "    number = int(input(f\"Enter number {i + 1}: \"))\n",
    "    s.add(number)"
   ]
  },
  {
   "cell_type": "markdown",
   "id": "08327d43-5030-4567-bf68-309eaca87723",
   "metadata": {},
   "source": [
    "3. Create a program to take input in dictonary from user"
   ]
  },
  {
   "cell_type": "code",
   "execution_count": 54,
   "id": "c4e66dfa-0102-4a79-84f1-9bf5accfd072",
   "metadata": {},
   "outputs": [
    {
     "name": "stdin",
     "output_type": "stream",
     "text": [
      "enter how many elements you want:  2\n",
      "Enter key 1:  1\n",
      "Enter value for key '1':  2\n",
      "Enter key 2:  2\n",
      "Enter value for key '2':  1\n"
     ]
    },
    {
     "name": "stdout",
     "output_type": "stream",
     "text": [
      "{'1': '2', '2': '1'}\n"
     ]
    }
   ],
   "source": [
    "n=int(input(\"enter how many elements you want: \"))\n",
    "d={}\n",
    "for i in range(n):\n",
    "    key = input(f\"Enter key {i + 1}: \")\n",
    "    value = input(f\"Enter value for key '{key}': \")\n",
    "    d[key] = value\n",
    "print(d)"
   ]
  },
  {
   "cell_type": "markdown",
   "id": "196bd9f7-bf03-4c68-a00f-bbc332cee502",
   "metadata": {},
   "source": [
    "4. Write a Python program to iterate over dictionaries using for loops"
   ]
  },
  {
   "cell_type": "code",
   "execution_count": 63,
   "id": "00285f1f-8dfb-442c-a365-e0539fc9cc81",
   "metadata": {},
   "outputs": [
    {
     "name": "stdin",
     "output_type": "stream",
     "text": [
      "enter the number of key-value pairs:  3\n",
      "enter the key 1 1\n",
      "enter the value of key 1 2\n",
      "enter the key 2 3\n",
      "enter the value of key 3 4\n",
      "enter the key 3 5\n",
      "enter the value of key 5 6\n"
     ]
    },
    {
     "name": "stdout",
     "output_type": "stream",
     "text": [
      "{'1': '2', '3': '4', '5': '6'}\n",
      "2\n",
      "4\n",
      "6\n"
     ]
    }
   ],
   "source": [
    "n=int(input(\"enter the number of key-value pairs: \"))\n",
    "d={}\n",
    "for i in range(n):\n",
    "    key=input(f\"enter the key {i+1}\")\n",
    "    value=input(f\"enter the value of key {key}\")\n",
    "    d[key]=value\n",
    "print(d)\n",
    "for i in d.keys():\n",
    "    print(d[i])\n",
    "\n"
   ]
  },
  {
   "cell_type": "markdown",
   "id": "1ecf64b8-fe7b-4af4-92b9-9d2d65676092",
   "metadata": {},
   "source": [
    "4. Write a Python script to merge two Python dictionaries."
   ]
  },
  {
   "cell_type": "code",
   "execution_count": 67,
   "id": "bc65ee55-7d61-4011-bd15-91a225c256d6",
   "metadata": {},
   "outputs": [
    {
     "name": "stdout",
     "output_type": "stream",
     "text": [
      "{1, 2, 3, 4, 5, 6}\n"
     ]
    }
   ],
   "source": [
    "a={1,2,3}\n",
    "b={4,5,6}\n",
    "b.update(a)\n",
    "print(b)"
   ]
  },
  {
   "cell_type": "code",
   "execution_count": 35,
   "id": "090b536f-3669-43bf-ae3b-2808ab2cb72f",
   "metadata": {},
   "outputs": [
    {
     "name": "stdout",
     "output_type": "stream",
     "text": [
      "{1: 11, 2: 22, 3: 33, 4: 44, 5: 55, 6: 66}\n"
     ]
    }
   ],
   "source": [
    "a={1:11,2:22,3:33}\n",
    "b={4:44,5:55,6:66}\n",
    "for i in b:\n",
    "    a[i]=b[i]\n",
    "print(a)"
   ]
  },
  {
   "cell_type": "markdown",
   "id": "3e15cae2-6c53-44ab-9d3d-bfff0e245ea5",
   "metadata": {},
   "source": [
    "5. Write a Python program to sum all the values in a dictionary"
   ]
  },
  {
   "cell_type": "code",
   "execution_count": 75,
   "id": "d16badb2-3462-4c11-9888-8c46c3ec1e2f",
   "metadata": {},
   "outputs": [
    {
     "name": "stdin",
     "output_type": "stream",
     "text": [
      "enter a number of key values:  2\n",
      "enter the value of key 1 1\n",
      "enter the values of key 1 11\n",
      "enter the value of key 2 2\n",
      "enter the values of key 2 22\n"
     ]
    },
    {
     "name": "stdout",
     "output_type": "stream",
     "text": [
      "{1: 11, 2: 22}\n",
      "33\n"
     ]
    }
   ],
   "source": [
    "n=int(input(\"enter a number of key values: \"))\n",
    "d={}\n",
    "sum=0\n",
    "for i in range(n):\n",
    "    key=int(input(f\"enter the value of key {i+1}\"))\n",
    "    value=int(input(f\"enter the values of key {key}\"))\n",
    "    d[key]=value\n",
    "print(d)\n",
    "for key in d:\n",
    "    sum+=d[key]\n",
    "print(sum)"
   ]
  },
  {
   "cell_type": "markdown",
   "id": "25a6814c-3544-43bc-a6f5-f86ca65cbd8a",
   "metadata": {},
   "source": [
    "6. Convert a list to dictionary"
   ]
  },
  {
   "cell_type": "code",
   "execution_count": 43,
   "id": "8d872b0e-1c9a-4a43-8254-e05a206609de",
   "metadata": {},
   "outputs": [
    {
     "name": "stdin",
     "output_type": "stream",
     "text": [
      "enter a number:  3\n",
      "enter a numbers:  1\n",
      "enter a numbers:  2\n",
      "enter a numbers:  3\n"
     ]
    },
    {
     "name": "stdout",
     "output_type": "stream",
     "text": [
      "[1, 2, 3]\n",
      "{0: 1, 1: 2, 2: 3}\n"
     ]
    }
   ],
   "source": [
    "n=int(input(\"enter a number: \"))\n",
    "l=[]\n",
    "d={}\n",
    "for i in range(n):\n",
    "    z=int(input(\"enter a numbers: \"))\n",
    "    l.append(z)\n",
    "print(l)\n",
    "for i in range(len(l)):\n",
    "    d[i]=l[i]\n",
    "print(d)"
   ]
  },
  {
   "cell_type": "markdown",
   "id": "9761aff3-3a23-4b0a-bbe7-53655b0c72ec",
   "metadata": {},
   "source": [
    "7. Count the frequency of each elements"
   ]
  },
  {
   "cell_type": "code",
   "execution_count": 80,
   "id": "46a38640-ae64-40e7-bf25-62590985697e",
   "metadata": {},
   "outputs": [
    {
     "name": "stdout",
     "output_type": "stream",
     "text": [
      "{1: 3, 2: 3, 3: 2, 4: 1, 5: 2, 6: 1}\n"
     ]
    }
   ],
   "source": [
    "elements=[1,2,3,3,4,5,6,2,1,2,1,5]\n",
    "frequency={}\n",
    "for element in elements:\n",
    "    if element in frequency:\n",
    "        frequency[element]+=1\n",
    "    else:\n",
    "        frequency[element]=1\n",
    "print(frequency)"
   ]
  },
  {
   "cell_type": "markdown",
   "id": "a73e7ba3-f1e3-4837-9632-e2a82d8dd367",
   "metadata": {},
   "source": [
    "8.  Write a Python program to combine two dictionary by adding values for common keys."
   ]
  },
  {
   "cell_type": "code",
   "execution_count": 83,
   "id": "fd8df4ac-c90e-454b-afd2-32a6080a67bc",
   "metadata": {},
   "outputs": [
    {
     "name": "stdout",
     "output_type": "stream",
     "text": [
      "{1: 34, 2: 54, 3: 108, 5: 89, 6: 10}\n"
     ]
    }
   ],
   "source": [
    "a={1:34,2:54,3:30}\n",
    "b={3:78,5:89,6:10}\n",
    "for i in b.keys():\n",
    "    if i in a.keys():\n",
    "        a[i]=a[i]+b[i]\n",
    "    else:\n",
    "        a[i]=b[i]\n",
    "print(a)"
   ]
  },
  {
   "cell_type": "code",
   "execution_count": null,
   "id": "ebe9d182-152e-4d39-82fe-c43b028f1104",
   "metadata": {},
   "outputs": [],
   "source": [
    " "
   ]
  }
 ],
 "metadata": {
  "kernelspec": {
   "display_name": "Python 3 (ipykernel)",
   "language": "python",
   "name": "python3"
  },
  "language_info": {
   "codemirror_mode": {
    "name": "ipython",
    "version": 3
   },
   "file_extension": ".py",
   "mimetype": "text/x-python",
   "name": "python",
   "nbconvert_exporter": "python",
   "pygments_lexer": "ipython3",
   "version": "3.11.7"
  }
 },
 "nbformat": 4,
 "nbformat_minor": 5
}
