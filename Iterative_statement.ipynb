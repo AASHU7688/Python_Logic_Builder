{
 "cells": [
  {
   "cell_type": "markdown",
   "id": "12ba8ef3-042c-4f49-82c0-80e1af00bd08",
   "metadata": {},
   "source": [
    "1. Accept an integer and Print hello world n times"
   ]
  },
  {
   "cell_type": "code",
   "execution_count": 2,
   "id": "f7552064-f5cb-446d-b967-38f28e5b14c2",
   "metadata": {},
   "outputs": [
    {
     "name": "stdin",
     "output_type": "stream",
     "text": [
      "enter a number:  7\n"
     ]
    },
    {
     "name": "stdout",
     "output_type": "stream",
     "text": [
      "Hello World\n",
      "Hello World\n",
      "Hello World\n",
      "Hello World\n",
      "Hello World\n",
      "Hello World\n",
      "Hello World\n"
     ]
    }
   ],
   "source": [
    "n=int(input(\"enter a number: \"))\n",
    "for i in range(0,n):\n",
    "    print(\"Hello World\")"
   ]
  },
  {
   "cell_type": "markdown",
   "id": "479cfbad-4f37-4011-8aae-b605ebdeef6a",
   "metadata": {},
   "source": [
    "2.  Print natural number up to n. "
   ]
  },
  {
   "cell_type": "code",
   "execution_count": 9,
   "id": "980ea3ee-fb74-4994-a690-baf99320d34c",
   "metadata": {},
   "outputs": [
    {
     "name": "stdin",
     "output_type": "stream",
     "text": [
      "enter a number:  4\n"
     ]
    },
    {
     "name": "stdout",
     "output_type": "stream",
     "text": [
      "1\n",
      "2\n",
      "3\n",
      "4\n"
     ]
    }
   ],
   "source": [
    "n=int(input(\"enter a number: \"))\n",
    "for i in range(1,n+1):\n",
    "    print(i)"
   ]
  },
  {
   "cell_type": "markdown",
   "id": "93809744-4c43-4dfc-a849-796ac8ca888b",
   "metadata": {},
   "source": [
    "3. Reverse for loop. Print n to 1."
   ]
  },
  {
   "cell_type": "code",
   "execution_count": 14,
   "id": "acbb825c-59ab-46eb-992f-dbed0ea7854f",
   "metadata": {},
   "outputs": [
    {
     "name": "stdin",
     "output_type": "stream",
     "text": [
      "enter a number:  4\n"
     ]
    },
    {
     "name": "stdout",
     "output_type": "stream",
     "text": [
      "4\n",
      "3\n",
      "2\n",
      "1\n"
     ]
    }
   ],
   "source": [
    "n=int(input(\"enter a number: \"))\n",
    "for i in range(n,0,-1):\n",
    "    print(i)"
   ]
  },
  {
   "cell_type": "markdown",
   "id": "ab0c6930-a7ba-450a-9c8e-52a6a2bd9215",
   "metadata": {},
   "source": [
    "4. Table of given number using for loop"
   ]
  },
  {
   "cell_type": "code",
   "execution_count": 19,
   "id": "6c4feff8-52ea-4e10-8d09-c35ebc1d1041",
   "metadata": {},
   "outputs": [
    {
     "name": "stdin",
     "output_type": "stream",
     "text": [
      "enter a number:  4\n"
     ]
    },
    {
     "name": "stdout",
     "output_type": "stream",
     "text": [
      "4 X 1 = 4\n",
      "4 X 2 = 8\n",
      "4 X 3 = 12\n",
      "4 X 4 = 16\n",
      "4 X 5 = 20\n",
      "4 X 6 = 24\n",
      "4 X 7 = 28\n",
      "4 X 8 = 32\n",
      "4 X 9 = 36\n",
      "4 X 10 = 40\n"
     ]
    }
   ],
   "source": [
    "n=int(input(\"enter a number: \"))\n",
    "for i in range(1,11):\n",
    "    print(f\"{n} X {i} = {n*i}\")"
   ]
  },
  {
   "cell_type": "markdown",
   "id": "8ffa819d-45ea-4378-b9b5-c3c12d5c25d6",
   "metadata": {},
   "source": [
    "5. Table of given number using while loop"
   ]
  },
  {
   "cell_type": "code",
   "execution_count": 28,
   "id": "5564a687-a49f-479f-b891-d871a495198c",
   "metadata": {},
   "outputs": [
    {
     "name": "stdin",
     "output_type": "stream",
     "text": [
      "enter a number:  4\n"
     ]
    },
    {
     "name": "stdout",
     "output_type": "stream",
     "text": [
      "4 X 1 = 4\n",
      "4 X 2 = 8\n",
      "4 X 3 = 12\n",
      "4 X 4 = 16\n",
      "4 X 5 = 20\n",
      "4 X 6 = 24\n",
      "4 X 7 = 28\n",
      "4 X 8 = 32\n",
      "4 X 9 = 36\n",
      "4 X 10 = 40\n"
     ]
    }
   ],
   "source": [
    "n=int(input(\"enter a number: \"))\n",
    "i=1\n",
    "while (i<11):\n",
    "     print(f\"{n} X {i} = {n*i}\")\n",
    "     i += 1\n",
    "    "
   ]
  },
  {
   "cell_type": "markdown",
   "id": "541835a6-f40e-49c6-8e5c-80154a2ccc81",
   "metadata": {},
   "source": [
    "6. Write a program to greet all person in list l and which start with A\n",
    "l=[\"Aashu\",\"Aaliya\",\"Shruti\",\"Chanchal\"]"
   ]
  },
  {
   "cell_type": "code",
   "execution_count": 35,
   "id": "fcf04889-adee-4a2b-97c6-2439c6a19c2a",
   "metadata": {},
   "outputs": [
    {
     "name": "stdout",
     "output_type": "stream",
     "text": [
      "Hello Aashu\n",
      "Hello Aaliya\n"
     ]
    }
   ],
   "source": [
    "l=[\"Aashu\",\"Aaliya\",\"Shruti\",\"Chanchal\"]\n",
    "for name in l:\n",
    "    if(name.startswith(\"A\")):\n",
    "        print(f\"Hello {name}\")"
   ]
  },
  {
   "cell_type": "markdown",
   "id": "70771695-ad3e-4ece-a5d7-7b66cc98ca2c",
   "metadata": {},
   "source": [
    "7. Check whether number is prime is not "
   ]
  },
  {
   "cell_type": "code",
   "execution_count": 39,
   "id": "8ff61ff0-45f1-4a0d-8c1c-efb7b64ee185",
   "metadata": {},
   "outputs": [
    {
     "name": "stdin",
     "output_type": "stream",
     "text": [
      "enter a number:  7\n"
     ]
    },
    {
     "name": "stdout",
     "output_type": "stream",
     "text": [
      "7 is prime\n"
     ]
    }
   ],
   "source": [
    "a=int(input(\"enter a number: \"))\n",
    "if a==1:\n",
    "    print(\"is not prime\")\n",
    "if a>1:\n",
    "    for i in range(2,a):\n",
    "        if a%i==0:\n",
    "            print(a,\"is not prime \")\n",
    "            break\n",
    "    else:\n",
    "        print(a,\"is prime\")"
   ]
  },
  {
   "cell_type": "markdown",
   "id": "bee50a6a-8a35-4be7-9e06-8d6b425c4c32",
   "metadata": {},
   "source": [
    "8. Write a program to find the sum of n numbers "
   ]
  },
  {
   "cell_type": "code",
   "execution_count": 31,
   "id": "a0eb92bd-b9a0-4f62-b6ab-de60ab1d97f2",
   "metadata": {},
   "outputs": [
    {
     "name": "stdin",
     "output_type": "stream",
     "text": [
      "Enter a number:  4\n"
     ]
    },
    {
     "name": "stdout",
     "output_type": "stream",
     "text": [
      "1\n",
      "3\n",
      "6\n"
     ]
    }
   ],
   "source": [
    "n=int(input(\"Enter a number: \"))\n",
    "sum=0\n",
    "for i in range(1,n):\n",
    "    sum+=i\n",
    "    print(sum)"
   ]
  },
  {
   "cell_type": "markdown",
   "id": "269850d8-cebe-4f88-8e30-839d087a9319",
   "metadata": {},
   "source": [
    "9. Write a program to find the sum of n numbers using while loop "
   ]
  },
  {
   "cell_type": "code",
   "execution_count": 29,
   "id": "a6c2396a-6aa0-4195-884f-b705f82f70fd",
   "metadata": {},
   "outputs": [
    {
     "name": "stdin",
     "output_type": "stream",
     "text": [
      "Enter a number:  4\n"
     ]
    },
    {
     "name": "stdout",
     "output_type": "stream",
     "text": [
      "1\n",
      "3\n",
      "6\n"
     ]
    }
   ],
   "source": [
    "n=int(input(\"Enter a number: \"))\n",
    "sum=0\n",
    "i=1\n",
    "while(i<n):\n",
    "    sum+=i\n",
    "    i+=1\n",
    "    print(sum)"
   ]
  },
  {
   "cell_type": "markdown",
   "id": "a997452d-36a8-4b5e-876f-a104f22c40a0",
   "metadata": {},
   "source": [
    "10. Factorial of a number"
   ]
  },
  {
   "cell_type": "code",
   "execution_count": 36,
   "id": "2d55891b-1ac7-4300-9200-4b04cc734048",
   "metadata": {},
   "outputs": [
    {
     "name": "stdin",
     "output_type": "stream",
     "text": [
      "Enter a number:  3\n"
     ]
    },
    {
     "name": "stdout",
     "output_type": "stream",
     "text": [
      "the factorial of 3 is 6\n"
     ]
    }
   ],
   "source": [
    "n=int(input(\"Enter a number: \"))\n",
    "factorial=1\n",
    "if n<0:\n",
    "    print(\"factorial cannot be taken out\")\n",
    "else:\n",
    "    for i in range(1,n+1):\n",
    "        factorial=factorial*i\n",
    "print(f\"the factorial of {n} is {factorial}\")"
   ]
  },
  {
   "cell_type": "markdown",
   "id": "b3673347-8111-4293-9fcd-0a1e43187560",
   "metadata": {},
   "source": [
    "11. Print the sum of all even & odd numbers in a range seperately."
   ]
  },
  {
   "cell_type": "code",
   "execution_count": 41,
   "id": "9a601120-bac4-450f-af86-b31993118b4f",
   "metadata": {},
   "outputs": [
    {
     "name": "stdin",
     "output_type": "stream",
     "text": [
      "Enter a number:  2\n",
      "Enter a number:  9\n"
     ]
    },
    {
     "name": "stdout",
     "output_type": "stream",
     "text": [
      "\n",
      "Sum of Even numbers: 20\n",
      "Sum of Odd numbers: 24\n"
     ]
    }
   ],
   "source": [
    "a=int(input(\"Enter a number: \"))\n",
    "b=int(input(\"Enter a number: \"))\n",
    "sum_even=0\n",
    "sum_odd=0\n",
    "for i in range(a, b + 1):\n",
    "    if i % 2 == 0:\n",
    "        sum_even += i\n",
    "    else:\n",
    "        sum_odd += i\n",
    "\n",
    "print(\"\\nSum of Even numbers:\", sum_even)\n",
    "print(\"Sum of Odd numbers:\", sum_odd)"
   ]
  },
  {
   "cell_type": "markdown",
   "id": "fb5a3a71-30cc-41e3-8447-cfa0ab149ab2",
   "metadata": {},
   "source": [
    "12. Print all the numbers which are either divisible by 3 or 5 in a range "
   ]
  },
  {
   "cell_type": "code",
   "execution_count": 44,
   "id": "b87255c3-ff61-4bfc-8d64-46a28c214171",
   "metadata": {},
   "outputs": [
    {
     "name": "stdin",
     "output_type": "stream",
     "text": [
      "Enter a number:  1\n",
      "Enter a number:  9\n"
     ]
    },
    {
     "name": "stdout",
     "output_type": "stream",
     "text": [
      "3\n",
      "5\n",
      "6\n",
      "9\n"
     ]
    }
   ],
   "source": [
    "a=int(input(\"Enter a number: \"))\n",
    "b=int(input(\"Enter a number: \"))\n",
    "for i in range(a,b+1):\n",
    "    if i%3==0 or i%5==0:\n",
    "        print(i)"
   ]
  },
  {
   "cell_type": "markdown",
   "id": "8dc3cc0d-291c-427f-a274-a09f59b64512",
   "metadata": {},
   "source": [
    "13. Print all the factors of a number."
   ]
  },
  {
   "cell_type": "code",
   "execution_count": 53,
   "id": "3c0ffaf5-ca4a-4b71-a82d-dc81e2240452",
   "metadata": {},
   "outputs": [
    {
     "name": "stdin",
     "output_type": "stream",
     "text": [
      "Enter a number:  4\n"
     ]
    },
    {
     "name": "stdout",
     "output_type": "stream",
     "text": [
      "[1, 2, 4]\n"
     ]
    }
   ],
   "source": [
    "n=int(input(\"Enter a number: \"))\n",
    "factors=[]\n",
    "for i in range(1,n+1):\n",
    "    if n%i==0:\n",
    "        factors.append(i)\n",
    "print(factors)"
   ]
  },
  {
   "cell_type": "markdown",
   "id": "256f66aa-3554-4f83-93e5-4c5c76a9ae89",
   "metadata": {},
   "source": [
    "14. Print the sum of all factors of a number, 50 - 1 + 2 + 5 + 10 + 25 = 43"
   ]
  },
  {
   "cell_type": "code",
   "execution_count": 6,
   "id": "3e663fa1-2204-4e99-bf1f-58c7700ec3c5",
   "metadata": {},
   "outputs": [
    {
     "name": "stdin",
     "output_type": "stream",
     "text": [
      "Enter a number:  4\n"
     ]
    },
    {
     "name": "stdout",
     "output_type": "stream",
     "text": [
      "the sum of factors 3\n"
     ]
    }
   ],
   "source": [
    "n=int(input(\"Enter a number: \"))\n",
    "factors=[]\n",
    "sum=0\n",
    "for i in range(1,n):\n",
    "    if n%i==0:\n",
    "        sum+=i\n",
    "print(f\"the sum of factors {sum}\")\n"
   ]
  },
  {
   "cell_type": "markdown",
   "id": "aeeca6e4-95e7-4c52-be2e-9e99711ae122",
   "metadata": {},
   "source": [
    "15.  Accept a number and check if it a perfect number or not.\n",
    "      A number whose sum of factors(excluding number itself)  = Number \n",
    "      Ex -  6 = 1, 2, 3 = 6"
   ]
  },
  {
   "cell_type": "code",
   "execution_count": 8,
   "id": "49e04a1e-310f-4f95-b14b-33e69e0e7029",
   "metadata": {},
   "outputs": [
    {
     "name": "stdin",
     "output_type": "stream",
     "text": [
      "Enter a number 6\n"
     ]
    },
    {
     "name": "stdout",
     "output_type": "stream",
     "text": [
      "it is a perfect number\n"
     ]
    }
   ],
   "source": [
    "n=int(input(\"Enter a number\"))\n",
    "sum=0\n",
    "factors=[]\n",
    "for i in range(1,n):\n",
    "    if n%i==0:\n",
    "        sum+=i\n",
    "if n==sum:\n",
    "    print(\"it is a perfect number\")\n",
    "else:\n",
    "    print(\"it is not a percect number\")"
   ]
  },
  {
   "cell_type": "markdown",
   "id": "e4773074-8ff2-4776-9e1a-d6a7643c9cee",
   "metadata": {},
   "source": [
    "16. Seprate each digit of a number and print it on the new line"
   ]
  },
  {
   "cell_type": "code",
   "execution_count": 11,
   "id": "16d2bca9-328e-4d81-92d9-36350ea0fd75",
   "metadata": {},
   "outputs": [
    {
     "name": "stdin",
     "output_type": "stream",
     "text": [
      "Enter a number:  765483\n"
     ]
    },
    {
     "name": "stdout",
     "output_type": "stream",
     "text": [
      "7\n",
      "6\n",
      "5\n",
      "4\n",
      "8\n",
      "3\n"
     ]
    }
   ],
   "source": [
    "n=int(input(\"Enter a number: \"))\n",
    "n_str=str(n)\n",
    "for i in n_str:\n",
    "    print(i)"
   ]
  },
  {
   "cell_type": "markdown",
   "id": "c0a4cb5b-9171-4291-a390-8e162f2ae272",
   "metadata": {},
   "source": [
    "17. Accept a number and print its reverse"
   ]
  },
  {
   "cell_type": "code",
   "execution_count": 1,
   "id": "1e30ded9-f0bc-41b5-a0de-2fa387777b8e",
   "metadata": {},
   "outputs": [
    {
     "name": "stdin",
     "output_type": "stream",
     "text": [
      "Enter a number:  876\n"
     ]
    },
    {
     "name": "stdout",
     "output_type": "stream",
     "text": [
      "the reverse of the number is: 678\n"
     ]
    }
   ],
   "source": [
    "n=int(input(\"Enter a number: \"))\n",
    "rn=0\n",
    "while n>0:\n",
    "    d=n%10\n",
    "    rn=(rn*10)+d\n",
    "    n=n//10\n",
    "print(\"the reverse of the number is:\", rn)"
   ]
  },
  {
   "cell_type": "markdown",
   "id": "1dad26b6-741a-4392-ac8e-17ab106a6f90",
   "metadata": {},
   "source": [
    "18. Accept a number and check if it is a pallindromic number (If number and its reverse are equal)\n",
    "       Ex - 12321 - Rerverse - 12321"
   ]
  },
  {
   "cell_type": "code",
   "execution_count": 1,
   "id": "a13d9ac3-32aa-4dcd-94ec-089c206440f7",
   "metadata": {},
   "outputs": [
    {
     "name": "stdin",
     "output_type": "stream",
     "text": [
      "enter a number:  768\n"
     ]
    },
    {
     "name": "stdout",
     "output_type": "stream",
     "text": [
      "it is not\n"
     ]
    }
   ],
   "source": [
    "n=int(input(\"enter a number: \"))\n",
    "orignal_number=n\n",
    "reverse_number=0\n",
    "while n>0:\n",
    "    d=n%10\n",
    "    reverse_number=(reverse_number*10)+d\n",
    "    n//=10\n",
    "if reverse_number==orignal_number:\n",
    "    print(\"it is a pallindromic number\")\n",
    "else:\n",
    "    print(\"it is not\")"
   ]
  },
  {
   "cell_type": "code",
   "execution_count": null,
   "id": "6d01d1d8-fb41-4cd7-b974-fe1f191d1463",
   "metadata": {},
   "outputs": [],
   "source": []
  }
 ],
 "metadata": {
  "kernelspec": {
   "display_name": "Python 3 (ipykernel)",
   "language": "python",
   "name": "python3"
  },
  "language_info": {
   "codemirror_mode": {
    "name": "ipython",
    "version": 3
   },
   "file_extension": ".py",
   "mimetype": "text/x-python",
   "name": "python",
   "nbconvert_exporter": "python",
   "pygments_lexer": "ipython3",
   "version": "3.11.7"
  }
 },
 "nbformat": 4,
 "nbformat_minor": 5
}
