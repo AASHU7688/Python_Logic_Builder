{
 "cells": [
  {
   "cell_type": "markdown",
   "id": "63839ab0-5a79-4338-aea5-4ee07f1f3ccc",
   "metadata": {},
   "source": [
    "1. Create a class \"programmer\" for storing information of few programmers workig at microsoft"
   ]
  },
  {
   "cell_type": "code",
   "execution_count": 9,
   "id": "bde49407-8063-4f49-917b-52857a434836",
   "metadata": {},
   "outputs": [
    {
     "name": "stdout",
     "output_type": "stream",
     "text": [
      "Aashu 261833 450000\n"
     ]
    }
   ],
   "source": [
    "class Programmer:\n",
    "    company = \"Microsoft\"\n",
    "    def __init__(self,name,salary,pin):\n",
    "        self.name=name\n",
    "        self.salary=salary\n",
    "        self.pin=pin\n",
    "p=Programmer(\"Aashu\",450000,261833)\n",
    "print(p.name,p.pin,p.salary)"
   ]
  },
  {
   "cell_type": "markdown",
   "id": "9524e4f1-0fc8-48bb-8d2a-679008affe5a",
   "metadata": {},
   "source": [
    "2. Write a class calculator capable of finding square,cube and square root of a number."
   ]
  },
  {
   "cell_type": "code",
   "execution_count": 5,
   "id": "a0ce0c0e-4dda-4cd2-b1c7-8797997bbe9e",
   "metadata": {},
   "outputs": [
    {
     "name": "stdin",
     "output_type": "stream",
     "text": [
      "enter a number:  4\n"
     ]
    },
    {
     "name": "stdout",
     "output_type": "stream",
     "text": [
      "the square is 16\n",
      "the cube is 64\n",
      "the square is 2.0\n"
     ]
    }
   ],
   "source": [
    "class Calculator:\n",
    "    def __init__(self,n):\n",
    "        self.n=n\n",
    "    def square(self):\n",
    "        print(f\"the square is {self.n*self.n}\")\n",
    "    def cube(self):\n",
    "        print(f\"the cube is {self.n*self.n*self.n}\")\n",
    "    def root(self):\n",
    "        print(f\"the square is {self.n**1/2}\")\n",
    "num=int(input(\"enter a number: \"))\n",
    "a= Calculator(num)\n",
    "a.square()\n",
    "a.cube()\n",
    "a.root()"
   ]
  },
  {
   "cell_type": "markdown",
   "id": "3517d7bb-bd76-43dd-9acc-f0e2d590af69",
   "metadata": {},
   "source": [
    "3. Add static method in problem 2, to greet with user hello"
   ]
  },
  {
   "cell_type": "code",
   "execution_count": 14,
   "id": "41e84525-894e-4bd9-b932-b30b03235984",
   "metadata": {},
   "outputs": [
    {
     "name": "stdin",
     "output_type": "stream",
     "text": [
      "enter a number:  5\n"
     ]
    },
    {
     "name": "stdout",
     "output_type": "stream",
     "text": [
      "hello\n",
      "the square is 25\n",
      "the cube is 125\n",
      "the square is 2.5\n"
     ]
    }
   ],
   "source": [
    "class Calculator:\n",
    "    def __init__(self,n):\n",
    "        self.n=n\n",
    "    def square(self):\n",
    "        print(f\"the square is {self.n*self.n}\")\n",
    "    def cube(self):\n",
    "        print(f\"the cube is {self.n*self.n*self.n}\")\n",
    "    def root(self):\n",
    "        print(f\"the square is {self.n**1/2}\")\n",
    "    @staticmethod\n",
    "    def hello():\n",
    "        print(\"hello\")\n",
    "num=int(input(\"enter a number: \"))\n",
    "a=Calculator(num)\n",
    "a.hello()\n",
    "a.square()\n",
    "a.cube()\n",
    "a.root()"
   ]
  },
  {
   "cell_type": "markdown",
   "id": "427d405d-615f-41fd-9d21-c55fc25db701",
   "metadata": {},
   "source": [
    "4.Create a Student class with name and age attributes. Create an object and display its attributes."
   ]
  },
  {
   "cell_type": "code",
   "execution_count": 4,
   "id": "c083058e-8420-4f9c-80ac-c82311a86478",
   "metadata": {},
   "outputs": [
    {
     "name": "stdout",
     "output_type": "stream",
     "text": [
      "the name of the student is aashu and the age 20\n"
     ]
    }
   ],
   "source": [
    "class Student:\n",
    "    def __init__(self,name,age):\n",
    "        self.name=name\n",
    "        self.age=age\n",
    "\n",
    "student= Student(\"aashu\",20)\n",
    "print(f\"the name of the student is {student.name} and the age {student.age}\")"
   ]
  },
  {
   "cell_type": "markdown",
   "id": "b36791db-76d2-4b75-b714-bd8c7221389c",
   "metadata": {},
   "source": [
    " 5. Create a Rectangle class with attributes length and breadth. Write a method area() to calculate and display the area of the rectangle."
   ]
  },
  {
   "cell_type": "code",
   "execution_count": 16,
   "id": "74aca99c-4898-4046-8f2e-1758e1e78f78",
   "metadata": {},
   "outputs": [
    {
     "name": "stdin",
     "output_type": "stream",
     "text": [
      "enter the length 5.4\n",
      "enter the length 3.2\n"
     ]
    },
    {
     "name": "stdout",
     "output_type": "stream",
     "text": [
      "17.28\n"
     ]
    }
   ],
   "source": [
    "class Rectangle:\n",
    "    def __init__(self,length,breadth):\n",
    "        self.length=length\n",
    "        self.breadth=breadth\n",
    "    def area(self):\n",
    "        return self.length * self.breadth\n",
    "\n",
    "length=float(input(\"enter the length\"))\n",
    "breadth=float(input(\"enter the length\"))\n",
    "\n",
    "rect=Rectangle(length,breadth)\n",
    "print(rect.area())"
   ]
  },
  {
   "cell_type": "markdown",
   "id": "0f8a57ba-a70a-451c-87ff-c63320fac2c3",
   "metadata": {},
   "source": [
    "6. Create a Car class with brand, model, and year attributes. Use a constructor to initialize these attributes and display them using a method."
   ]
  },
  {
   "cell_type": "code",
   "execution_count": 23,
   "id": "673bfebc-49e8-470b-a4dd-7401edf1e91b",
   "metadata": {},
   "outputs": [
    {
     "name": "stdout",
     "output_type": "stream",
     "text": [
      "the brand is Mahindar and model is XUV and year is 2023\n"
     ]
    }
   ],
   "source": [
    "class Car:\n",
    "    def __init__(self,brand,model,year):\n",
    "        self.brand=brand\n",
    "        self.model=model\n",
    "        self.year=year\n",
    "    def display(self):\n",
    "        print(f\"the brand is {self.brand} and model is {self.model} and year is {self.year}\")\n",
    "\n",
    "car=Car(\"Mahindar\",\"XUV\",2023)\n",
    "car.display()"
   ]
  },
  {
   "cell_type": "markdown",
   "id": "f59aa86d-ab8c-4fca-b981-6f1ab64f447b",
   "metadata": {},
   "source": [
    "7. Create a BankAccount class with attributes account_holder and balance. Add methods deposit(amount) and withdraw(amount) to update the balance and display the current balance."
   ]
  },
  {
   "cell_type": "code",
   "execution_count": 2,
   "id": "3f797a0a-129f-4505-a909-d06cd99f6ea4",
   "metadata": {},
   "outputs": [
    {
     "name": "stdin",
     "output_type": "stream",
     "text": [
      "Enter your name:  aashu\n",
      "Enter initial balance:  8900\n",
      "Enter deposit amount:  760\n",
      "Enter withdrawal amount:  7600\n"
     ]
    },
    {
     "name": "stdout",
     "output_type": "stream",
     "text": [
      "Deposited 760. New balance: 9660\n",
      "Withdrew 7600. New balance: 2060\n"
     ]
    }
   ],
   "source": [
    "class BankAccount:\n",
    "    def __init__(self, account_holder, balance):\n",
    "        self.account_holder = account_holder\n",
    "        self.balance = balance\n",
    "\n",
    "    def deposit(self, amount):\n",
    "        self.balance += amount\n",
    "        print(f\"Deposited {amount}. New balance: {self.balance}\")\n",
    "\n",
    "    def withdraw(self, amount):\n",
    "        if amount > self.balance:\n",
    "            print(\"Insufficient balance!\")\n",
    "        else:\n",
    "            self.balance -= amount  \n",
    "            print(f\"Withdrew {amount}. New balance: {self.balance}\")\n",
    "\n",
    "\n",
    "name = input(\"Enter your name: \")\n",
    "balance = int(input(\"Enter initial balance: \"))\n",
    "deposit_amount = int(input(\"Enter deposit amount: \"))\n",
    "withdraw_amount = int(input(\"Enter withdrawal amount: \"))\n",
    "\n",
    "\n",
    "account = BankAccount(name, balance)  \n",
    "account.deposit(deposit_amount)\n",
    "account.withdraw(withdraw_amount)\n"
   ]
  },
  {
   "cell_type": "code",
   "execution_count": null,
   "id": "b0744288-8d40-4f61-b904-8b2d68bdc9a3",
   "metadata": {},
   "outputs": [],
   "source": []
  }
 ],
 "metadata": {
  "kernelspec": {
   "display_name": "Python 3 (ipykernel)",
   "language": "python",
   "name": "python3"
  },
  "language_info": {
   "codemirror_mode": {
    "name": "ipython",
    "version": 3
   },
   "file_extension": ".py",
   "mimetype": "text/x-python",
   "name": "python",
   "nbconvert_exporter": "python",
   "pygments_lexer": "ipython3",
   "version": "3.11.7"
  }
 },
 "nbformat": 4,
 "nbformat_minor": 5
}
