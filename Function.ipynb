{
 "cells": [
  {
   "cell_type": "markdown",
   "id": "7bc101f8-60bf-4f09-8efc-353886bac2dd",
   "metadata": {},
   "source": [
    "1. Sum of Two Numbers"
   ]
  },
  {
   "cell_type": "code",
   "execution_count": 20,
   "id": "2b98efe5-583d-4328-b1d1-083c799fef5b",
   "metadata": {},
   "outputs": [
    {
     "name": "stdin",
     "output_type": "stream",
     "text": [
      "enter a number:  3\n",
      "enter a number:  2\n"
     ]
    },
    {
     "data": {
      "text/plain": [
       "5"
      ]
     },
     "execution_count": 20,
     "metadata": {},
     "output_type": "execute_result"
    }
   ],
   "source": [
    "a=int(input(\"enter a number: \"))\n",
    "b=int(input(\"enter a number: \"))\n",
    "def sum(a,b):\n",
    "    return a+b\n",
    "sum(a,b)"
   ]
  },
  {
   "cell_type": "markdown",
   "id": "cd3dfbd1-859c-4a93-8ec2-b42c9596f50b",
   "metadata": {},
   "source": [
    "2. Write a program using functions to find greatest of three number"
   ]
  },
  {
   "cell_type": "code",
   "execution_count": 8,
   "id": "f8bfe8a5-8cc0-4bc0-8d77-0f526b325c88",
   "metadata": {},
   "outputs": [
    {
     "name": "stdin",
     "output_type": "stream",
     "text": [
      "Enter a number :  3\n",
      "Enter a number :  2\n",
      "Enter a number :  1\n"
     ]
    },
    {
     "name": "stdout",
     "output_type": "stream",
     "text": [
      "Number 1 is greatest: 3\n"
     ]
    }
   ],
   "source": [
    "num_1=int(input(\"Enter a number : \"))\n",
    "num_2=int(input(\"Enter a number : \"))\n",
    "num_3=int(input(\"Enter a number : \"))\n",
    "def greatest(num_1, num_2, num_3):\n",
    "    if num_1 >= num_2 and num_1 >= num_3:\n",
    "        print(f\"Number 1 is greatest: {num_1}\")\n",
    "    elif num_2 >= num_1 and num_2 >= num_3:\n",
    "        print(f\"Number 2 is greatest: {num_2}\")\n",
    "    else:\n",
    "        print(f\"Number 3 is greatest: {num_3}\")\n",
    "greatest(num_1, num_2, num_3)"
   ]
  },
  {
   "cell_type": "markdown",
   "id": "53c8badc-141e-4a42-93f1-ec74fff392e8",
   "metadata": {},
   "source": [
    "3. Even or Odd"
   ]
  },
  {
   "cell_type": "code",
   "execution_count": 27,
   "id": "2b051c93-85b2-44de-8061-fdacb8b2feba",
   "metadata": {},
   "outputs": [
    {
     "name": "stdin",
     "output_type": "stream",
     "text": [
      "enter a number:  5\n"
     ]
    },
    {
     "name": "stdout",
     "output_type": "stream",
     "text": [
      "5 is odd\n"
     ]
    }
   ],
   "source": [
    "n=int(input(\"enter a number: \"))\n",
    "def check(n):\n",
    "    if n%2==0:\n",
    "        print(f\"{n} is even\")\n",
    "    else:\n",
    "        print(f\"{n} is odd\")\n",
    "check(n)"
   ]
  },
  {
   "cell_type": "markdown",
   "id": "e7fd94be-1544-433c-8071-5ee4e504c82b",
   "metadata": {},
   "source": [
    "4. Factorial Calculation"
   ]
  },
  {
   "cell_type": "code",
   "execution_count": 38,
   "id": "7b89e224-06c2-4976-b555-685bdcfc55f1",
   "metadata": {},
   "outputs": [
    {
     "name": "stdin",
     "output_type": "stream",
     "text": [
      "enter a number:  5\n"
     ]
    },
    {
     "name": "stdout",
     "output_type": "stream",
     "text": [
      "120\n"
     ]
    }
   ],
   "source": [
    "n=int(input(\"enter a number: \"))\n",
    "factorial=1\n",
    "def fac(n,factorial):\n",
    "    for i in range(1,n+1):\n",
    "        factorial=factorial*i\n",
    "    print(factorial)\n",
    "fac(n,factorial)"
   ]
  },
  {
   "cell_type": "markdown",
   "id": "b489669c-4cfb-4fe0-9d93-f69bb3c86e71",
   "metadata": {},
   "source": [
    "5. Palindrome Check"
   ]
  },
  {
   "cell_type": "code",
   "execution_count": 45,
   "id": "2254cbcd-3dc6-4e3a-a2fa-8f6760841d8f",
   "metadata": {},
   "outputs": [
    {
     "name": "stdin",
     "output_type": "stream",
     "text": [
      "enter a strings:  abcba\n"
     ]
    },
    {
     "name": "stdout",
     "output_type": "stream",
     "text": [
      "it is palindrome\n"
     ]
    }
   ],
   "source": [
    "s=input(\"enter a strings: \")\n",
    "def str_check(s):\n",
    "    if s==s[::-1]:\n",
    "        print(\"it is palindrome\")\n",
    "    else:\n",
    "        print(\"it is not\")\n",
    "str_check(s)"
   ]
  },
  {
   "cell_type": "markdown",
   "id": "7b24f473-6c3a-476e-b8ad-645d8e9c9aa1",
   "metadata": {},
   "source": [
    "6. Fibonacci Series"
   ]
  },
  {
   "cell_type": "code",
   "execution_count": 67,
   "id": "a01a3d95-1508-4f95-8bb9-2532c4c4bb30",
   "metadata": {},
   "outputs": [
    {
     "name": "stdin",
     "output_type": "stream",
     "text": [
      "enter a number:  10\n"
     ]
    },
    {
     "name": "stdout",
     "output_type": "stream",
     "text": [
      "0 1 1 2 3 5 8 13 21 34 "
     ]
    }
   ],
   "source": [
    "n=int(input(\"enter a number: \"))\n",
    "a,b=0,1\n",
    "def fibonacci(a,b,n):\n",
    "    for _ in range(n):\n",
    "        print(a, end=\" \")\n",
    "        a, b = b, a + b\n",
    "fibonacci(a,b,n)"
   ]
  },
  {
   "cell_type": "markdown",
   "id": "3078e2f9-0643-4a86-b9ea-72a725e1f5e1",
   "metadata": {},
   "source": [
    "7. Count Vowels in a String"
   ]
  },
  {
   "cell_type": "code",
   "execution_count": 72,
   "id": "f2967999-c025-4382-8883-49a18c222a6a",
   "metadata": {},
   "outputs": [
    {
     "name": "stdin",
     "output_type": "stream",
     "text": [
      "enter a string:  aashutosh\n"
     ]
    },
    {
     "name": "stdout",
     "output_type": "stream",
     "text": [
      "4\n"
     ]
    }
   ],
   "source": [
    "str=input(\"enter a string: \")\n",
    "vowels=0\n",
    "def count(vowels,str):\n",
    "    for i in str:\n",
    "        if i in \"aeiouAEIOU\":\n",
    "            vowels=vowels+1\n",
    "        else:\n",
    "            pass\n",
    "    print(vowels)\n",
    "count(vowels,str)"
   ]
  },
  {
   "cell_type": "markdown",
   "id": "99d81bd2-d9a8-445c-9a45-f800c5928de9",
   "metadata": {},
   "source": [
    "8. Prime Number Check"
   ]
  },
  {
   "cell_type": "code",
   "execution_count": 81,
   "id": "7ee41b1e-4d15-4351-84f6-88597852c44a",
   "metadata": {},
   "outputs": [
    {
     "name": "stdin",
     "output_type": "stream",
     "text": [
      "enter a number:  7\n"
     ]
    },
    {
     "name": "stdout",
     "output_type": "stream",
     "text": [
      "it is prime\n"
     ]
    }
   ],
   "source": [
    "n=int(input(\"enter a number: \"))\n",
    "def prime(n):\n",
    "    if n==1:\n",
    "        print(\"it is not prime\")\n",
    "    if n>1:\n",
    "        for i in range(2,n):\n",
    "            if n%i==0:\n",
    "                print(\"it is not prime\")\n",
    "                break\n",
    "        else:\n",
    "            print(\"it is prime\")\n",
    "prime(n)"
   ]
  },
  {
   "cell_type": "markdown",
   "id": "aeb5c9ec-c3ce-4a36-b89c-42c061ec2c50",
   "metadata": {},
   "source": [
    "9. Reverse Words in a Sentence"
   ]
  },
  {
   "cell_type": "code",
   "execution_count": 13,
   "id": "87ec082d-a0df-4ff8-8826-98e3da857415",
   "metadata": {},
   "outputs": [
    {
     "name": "stdin",
     "output_type": "stream",
     "text": [
      "enter a sentence:  aashu here\n"
     ]
    },
    {
     "name": "stdout",
     "output_type": "stream",
     "text": [
      "here aashu\n"
     ]
    }
   ],
   "source": [
    "str=input(\"enter a sentence: \")\n",
    "def reverse(str):\n",
    "    words=str.split(\" \")\n",
    "    words=words[-1::-1]\n",
    "    outputstr=' '.join(words)\n",
    "    print(outputstr)\n",
    "reverse(str)"
   ]
  },
  {
   "cell_type": "markdown",
   "id": "f696e050-197f-4ace-9a8a-4886ee3d2939",
   "metadata": {},
   "source": [
    "10. Find Second Largest in a List"
   ]
  },
  {
   "cell_type": "code",
   "execution_count": 16,
   "id": "14b26c8c-d0fb-4812-ad67-24dcbc605e42",
   "metadata": {},
   "outputs": [
    {
     "name": "stdout",
     "output_type": "stream",
     "text": [
      "4\n"
     ]
    }
   ],
   "source": [
    "l=[1,2,3,4,5]\n",
    "def sec(l):\n",
    "    print(l[-2])\n",
    "sec(l)"
   ]
  },
  {
   "cell_type": "code",
   "execution_count": null,
   "id": "53664a38-fef1-4bbe-afdb-0be97d6ce525",
   "metadata": {},
   "outputs": [],
   "source": []
  }
 ],
 "metadata": {
  "kernelspec": {
   "display_name": "Python 3 (ipykernel)",
   "language": "python",
   "name": "python3"
  },
  "language_info": {
   "codemirror_mode": {
    "name": "ipython",
    "version": 3
   },
   "file_extension": ".py",
   "mimetype": "text/x-python",
   "name": "python",
   "nbconvert_exporter": "python",
   "pygments_lexer": "ipython3",
   "version": "3.11.7"
  }
 },
 "nbformat": 4,
 "nbformat_minor": 5
}
