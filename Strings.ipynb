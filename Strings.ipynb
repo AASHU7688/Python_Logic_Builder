{
 "cells": [
  {
   "cell_type": "markdown",
   "id": "2ac5cec3-9ed7-4de9-a6cf-f9e1291742a3",
   "metadata": {},
   "source": [
    "1. Write a python program to displa a user entered name followed by good afternoon using input() function"
   ]
  },
  {
   "cell_type": "code",
   "execution_count": 2,
   "id": "786bc34c-9ee6-44ad-a35b-d1758a1d363d",
   "metadata": {},
   "outputs": [
    {
     "name": "stdin",
     "output_type": "stream",
     "text": [
      "Enter your name:  aashu\n"
     ]
    },
    {
     "name": "stdout",
     "output_type": "stream",
     "text": [
      "Good Afternoon aashu\n"
     ]
    }
   ],
   "source": [
    "text=input(\"Enter your name: \")\n",
    "print(f\"Good Afternoon {text}\")"
   ]
  },
  {
   "cell_type": "markdown",
   "id": "55aa32e6-dd8e-4eb4-bf33-d1e8eeae642c",
   "metadata": {},
   "source": [
    "2. Write a program to fill in a letter template given below with name and date\n",
    "letter='''\n",
    "Dear <|Name|>,you are selected <|date|>'''"
   ]
  },
  {
   "cell_type": "code",
   "execution_count": 10,
   "id": "1f8dcb5a-d809-403a-a4ee-80d2257bca7f",
   "metadata": {},
   "outputs": [
    {
     "name": "stdout",
     "output_type": "stream",
     "text": [
      " Dear Aashu,\n",
      " You are selected \n",
      " 07/10/2003\n"
     ]
    }
   ],
   "source": [
    "letter=''' Dear <|Name|>,\\n You are selected \\n <|Date|>'''\n",
    "print(letter.replace(\"<|Name|>\",\"Aashu\").replace(\"<|Date|>\",\"07/10/2003\"))"
   ]
  },
  {
   "cell_type": "markdown",
   "id": "28008e58-3e63-4950-8273-294e5ea90b94",
   "metadata": {},
   "source": [
    "3. Write a program to detect a double space in a strings"
   ]
  },
  {
   "cell_type": "code",
   "execution_count": 15,
   "id": "992b4173-26df-4009-8a1b-b7cbad318968",
   "metadata": {},
   "outputs": [
    {
     "name": "stdout",
     "output_type": "stream",
     "text": [
      "5\n"
     ]
    }
   ],
   "source": [
    "text=\"hello  i am aashu\"\n",
    "print(text.find(\"  \"))"
   ]
  },
  {
   "cell_type": "markdown",
   "id": "dd1268f2-365c-44c1-a6d1-9f93bd5a6fed",
   "metadata": {},
   "source": [
    "4. Replace the double space from 3 with single spaces"
   ]
  },
  {
   "cell_type": "code",
   "execution_count": 19,
   "id": "fdcc5e92-bafb-40d6-8bcf-13d09a25a730",
   "metadata": {},
   "outputs": [
    {
     "name": "stdout",
     "output_type": "stream",
     "text": [
      "hello 3 i am aashu\n"
     ]
    }
   ],
   "source": [
    "text=\"hello  i am aashu\"\n",
    "print(text.replace(\"  \",\" 3 \"))"
   ]
  },
  {
   "cell_type": "markdown",
   "id": "bbbcdeea-ac94-4f7f-8e07-2a056d853433",
   "metadata": {},
   "source": [
    "5. Print string in reverse,its length,in uppercase,lowercase and copy into another string"
   ]
  },
  {
   "cell_type": "code",
   "execution_count": 34,
   "id": "d019bb4a-e3e4-4303-ab7c-1e709341d6ba",
   "metadata": {},
   "outputs": [
    {
     "name": "stdin",
     "output_type": "stream",
     "text": [
      "Enter a string:  aashu\n"
     ]
    },
    {
     "name": "stdout",
     "output_type": "stream",
     "text": [
      "Original string: aashu\n",
      "Reverse String: uhsaa\n",
      "Length of  String: 5\n",
      "Upper Case of  String: AASHU\n",
      "Lower Case of  String: aashu\n",
      "Copying into a string: aashu\n"
     ]
    }
   ],
   "source": [
    "text=input(\"Enter a string: \")\n",
    "print(f\"Original string: {text}\")\n",
    "a=text[::-1]\n",
    "print(f\"Reverse String: {a}\")\n",
    "b=len(text)\n",
    "print(f\"Length of  String: {b}\")\n",
    "c=text.upper()\n",
    "print(f\"Upper Case of  String: {c}\")\n",
    "d=text.lower()\n",
    "print(f\"Lower Case of  String: {d}\")\n",
    "e=text\n",
    "print(f\"Copying into a string: {e}\")"
   ]
  },
  {
   "cell_type": "markdown",
   "id": "7f5d0f84-ff73-450a-9055-a33257a83a66",
   "metadata": {},
   "source": [
    "6. Arrange string characters such that lowercase letters should come first"
   ]
  },
  {
   "cell_type": "code",
   "execution_count": 39,
   "id": "193827c4-85b8-43fa-bd76-6ef62d1f32e4",
   "metadata": {},
   "outputs": [
    {
     "name": "stdin",
     "output_type": "stream",
     "text": [
      "Enter a text:  Aashutosh Tiwari\n"
     ]
    },
    {
     "name": "stdout",
     "output_type": "stream",
     "text": [
      "ashutoshiwari\n",
      "AT\n"
     ]
    }
   ],
   "source": [
    "text=input(\"Enter a text: \")\n",
    "lower=\"\"\n",
    "upper=\"\"\n",
    "for i in text:\n",
    "    if i.islower():\n",
    "        lower=lower+i\n",
    "    elif i.isupper():\n",
    "        upper=upper+i\n",
    "print(lower)\n",
    "print(upper)\n",
    "        "
   ]
  },
  {
   "cell_type": "raw",
   "id": "c7c4b59b-b160-4475-a325-c9647a671193",
   "metadata": {},
   "source": [
    "7. Count all letters, digits, and special symbols from a given string\n",
    "    Given: str1 = \"P@#yn26at^&i5ve\"\n",
    "    Expected Outcome:\n",
    "    Total counts of chars, digits, and symbols\n",
    "    Chars = 8\n",
    "    Digits = 3\n",
    "    Symbol = 4\n"
   ]
  },
  {
   "cell_type": "code",
   "execution_count": 62,
   "id": "26934f6b-852e-467b-b441-ca94468dfbbd",
   "metadata": {},
   "outputs": [
    {
     "name": "stdin",
     "output_type": "stream",
     "text": [
      "Enter a text:  aashu@1234\n"
     ]
    },
    {
     "name": "stdout",
     "output_type": "stream",
     "text": [
      "5\n",
      "4\n",
      "1\n"
     ]
    }
   ],
   "source": [
    "t=input(\"Enter a text: \")\n",
    "chars=0\n",
    "digits=0\n",
    "symbol=0\n",
    "for i in t:\n",
    "    if i.isalpha():\n",
    "        chars=chars+1\n",
    "    elif i.isdigit():\n",
    "        digits=digits+1\n",
    "    elif i!=\"\":\n",
    "        symbol=symbol+1\n",
    "print(chars)\n",
    "print(digits)\n",
    "print(symbol)"
   ]
  },
  {
   "cell_type": "markdown",
   "id": "8c87e1ba-1c18-4634-b898-f2079fc0a9fa",
   "metadata": {},
   "source": [
    "8. Compare two strings without using inbuilt functions"
   ]
  },
  {
   "cell_type": "code",
   "execution_count": 68,
   "id": "522a0b5a-5d87-4156-90ca-d6cd241f69b9",
   "metadata": {},
   "outputs": [
    {
     "name": "stdin",
     "output_type": "stream",
     "text": [
      "Emter any string aashu\n",
      "Enter any string shruti\n"
     ]
    },
    {
     "name": "stdout",
     "output_type": "stream",
     "text": [
      "String 1 is less than String 2\n"
     ]
    }
   ],
   "source": [
    "\n",
    "s1=input(\"Emter any string\")\n",
    "s2=input(\"Enter any string\")\n",
    "i=0\n",
    "while True:\n",
    "    if i==len(s1) and i==len(s2):\n",
    "        print(\"s1 is equal to s2\")\n",
    "        break\n",
    "    elif i==len(s1):\n",
    "        print(\"s1 is less then s2\")\n",
    "        break\n",
    "    elif i==len(s2):\n",
    "        print(\"s2 is greater then s1\")\n",
    "        break\n",
    "    elif s1[i] != s2[i]:\n",
    "        if s1[i] < s2[i]:\n",
    "            print(\"String 1 is less than String 2\")\n",
    "        else:\n",
    "            print(\"String 1 is greater than String 2\")\n",
    "        break\n",
    "    i += 1"
   ]
  },
  {
   "cell_type": "markdown",
   "id": "1e761554-ee20-4b08-a4ae-a9a289b22132",
   "metadata": {},
   "source": [
    "9.  Count Vowels from given string"
   ]
  },
  {
   "cell_type": "code",
   "execution_count": 71,
   "id": "918eb876-5b7d-4c10-9b74-a7eb9b43eaed",
   "metadata": {},
   "outputs": [
    {
     "name": "stdin",
     "output_type": "stream",
     "text": [
      "enter a text:  aashu\n"
     ]
    },
    {
     "name": "stdout",
     "output_type": "stream",
     "text": [
      "3\n",
      "2\n"
     ]
    }
   ],
   "source": [
    "text=input(\"enter a text: \")\n",
    "vowel=0\n",
    "consonants=0\n",
    "for i in text:\n",
    "    if i in \"aeiouAIEOU\":\n",
    "        vowel=vowel+1\n",
    "    else:\n",
    "        consonants=consonants+1\n",
    "print(vowel)\n",
    "print(consonants)"
   ]
  },
  {
   "cell_type": "markdown",
   "id": "516d6096-e636-492e-8f3b-9a3045d55f62",
   "metadata": {},
   "source": [
    "10. Check wether a string is pallindrome or not"
   ]
  },
  {
   "cell_type": "code",
   "execution_count": 74,
   "id": "ea51faca-01d1-45a7-af07-a822f6ec1606",
   "metadata": {},
   "outputs": [
    {
     "name": "stdin",
     "output_type": "stream",
     "text": [
      "Enter a string:  aashu\n"
     ]
    },
    {
     "name": "stdout",
     "output_type": "stream",
     "text": [
      "It is not a palindrome\n"
     ]
    }
   ],
   "source": [
    "string = input(\"Enter a string: \")\n",
    "reversed_string = string[::-1]\n",
    "\n",
    "if string == reversed_string:\n",
    "    print(\"It is a palindrome\")\n",
    "else:\n",
    "    print(\"It is not a palindrome\")"
   ]
  },
  {
   "cell_type": "code",
   "execution_count": null,
   "id": "a3b0c760-cd51-4835-9f4a-1017db4e9fda",
   "metadata": {},
   "outputs": [],
   "source": []
  }
 ],
 "metadata": {
  "kernelspec": {
   "display_name": "Python 3 (ipykernel)",
   "language": "python",
   "name": "python3"
  },
  "language_info": {
   "codemirror_mode": {
    "name": "ipython",
    "version": 3
   },
   "file_extension": ".py",
   "mimetype": "text/x-python",
   "name": "python",
   "nbconvert_exporter": "python",
   "pygments_lexer": "ipython3",
   "version": "3.11.7"
  }
 },
 "nbformat": 4,
 "nbformat_minor": 5
}
