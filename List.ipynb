{
 "cells": [
  {
   "cell_type": "markdown",
   "id": "e003000d-a3b5-4118-ae75-5b5c8ad586c2",
   "metadata": {},
   "source": [
    "1. Accept List elements and reprint it"
   ]
  },
  {
   "cell_type": "code",
   "execution_count": 1,
   "id": "9c8d73b1-422e-44cf-a2a0-8098b41e47d9",
   "metadata": {},
   "outputs": [
    {
     "name": "stdin",
     "output_type": "stream",
     "text": [
      "enter how many number do you want:  5\n",
      "enter yours numbers:  1\n",
      "enter yours numbers:  2\n",
      "enter yours numbers:  2\n",
      "enter yours numbers:  3\n",
      "enter yours numbers:  4\n"
     ]
    },
    {
     "name": "stdout",
     "output_type": "stream",
     "text": [
      "[1, 2, 2, 3, 4]\n"
     ]
    }
   ],
   "source": [
    "a=int(input(\"enter how many number do you want: \"))\n",
    "l=[]\n",
    "for i in range(a):\n",
    "    z=int(input(\"enter yours numbers: \"))\n",
    "    l.append(z)\n",
    "print(l)"
   ]
  },
  {
   "cell_type": "markdown",
   "id": "37d7e2a9-91e1-4f37-bfba-274efcf77836",
   "metadata": {},
   "source": [
    "2. Print  List elements in reverse order"
   ]
  },
  {
   "cell_type": "code",
   "execution_count": 6,
   "id": "4cfbff97-58fc-4882-8a95-47cf0371a6bd",
   "metadata": {},
   "outputs": [
    {
     "name": "stdin",
     "output_type": "stream",
     "text": [
      "enter how many number you want to enter:  5\n",
      "Enter yours numbers:  3\n",
      "Enter yours numbers:  2\n",
      "Enter yours numbers:  2\n",
      "Enter yours numbers:  1\n",
      "Enter yours numbers:  4\n"
     ]
    },
    {
     "name": "stdout",
     "output_type": "stream",
     "text": [
      "list is [3, 2, 2, 1, 4]\n",
      "4\n",
      "1\n",
      "2\n",
      "2\n",
      "3\n"
     ]
    }
   ],
   "source": [
    "a=int(input(\"enter how many number you want to enter: \"))\n",
    "l=[]\n",
    "for i in range(a):\n",
    "    z=int(input(\"Enter yours numbers: \"))\n",
    "    l.append(z)\n",
    "print(f\"list is {l}\")\n",
    "for i in range(len(l)-1,-1,-1):\n",
    "    print(l[i])"
   ]
  },
  {
   "cell_type": "markdown",
   "id": "0387e31e-64fb-4637-8074-0527bb74bc67",
   "metadata": {},
   "source": [
    "3. Print positive and negative elements of an List"
   ]
  },
  {
   "cell_type": "code",
   "execution_count": 9,
   "id": "585e8fc6-160f-40dc-9f31-e82a84103693",
   "metadata": {},
   "outputs": [
    {
     "name": "stdin",
     "output_type": "stream",
     "text": [
      "enter how many number do you want to enter:  5\n",
      "enter numbers:  1\n",
      "enter numbers:  -1\n",
      "enter numbers:  3\n",
      "enter numbers:  -2\n",
      "enter numbers:  4\n"
     ]
    },
    {
     "name": "stdout",
     "output_type": "stream",
     "text": [
      "the original_list is [1, -1, 3, -2, 4]\n",
      "the postive_list is [1, 3, 4]\n",
      "the negative_list is [-1, -2]\n"
     ]
    }
   ],
   "source": [
    "a=int(input(\"enter how many number do you want to enter: \"))\n",
    "original_list=[]\n",
    "postive_list=[]\n",
    "negative_list=[]\n",
    "for i in range(a):\n",
    "    z=int(input(\"enter numbers: \"))\n",
    "    original_list.append(z)\n",
    "print(f\"the original_list is {original_list}\")\n",
    "for i in original_list:\n",
    "    if i>0:\n",
    "        postive_list.append(i)\n",
    "    else:\n",
    "        negative_list.append(i)\n",
    "print(f\"the postive_list is {postive_list}\")\n",
    "print(f\"the negative_list is {negative_list}\")"
   ]
  },
  {
   "cell_type": "markdown",
   "id": "217cbdf3-dd1d-48d5-83b9-fb4678e7e4cd",
   "metadata": {},
   "source": [
    "4. Print list in ascending or descending order\n"
   ]
  },
  {
   "cell_type": "code",
   "execution_count": 18,
   "id": "e9993768-f954-4e24-bf61-ac8b0964263e",
   "metadata": {},
   "outputs": [
    {
     "name": "stdin",
     "output_type": "stream",
     "text": [
      "enter how many number do you want to enter:  6\n",
      "enter numbers:  2\n",
      "enter numbers:  4\n",
      "enter numbers:  3\n",
      "enter numbers:  5\n",
      "enter numbers:  1\n",
      "enter numbers:  6\n"
     ]
    },
    {
     "name": "stdout",
     "output_type": "stream",
     "text": [
      "the original_list is [2, 4, 3, 5, 1, 6]\n",
      "the ascending_list is [1, 2, 3, 4, 5, 6]\n",
      "the decending_list is [6, 5, 4, 3, 2, 1]\n"
     ]
    }
   ],
   "source": [
    "a=int(input(\"enter how many number do you want to enter: \"))\n",
    "original_list=[]\n",
    "ascending_list=[]\n",
    "decending_list=[]\n",
    "for i in range(a):\n",
    "    z=int(input(\"enter numbers: \"))\n",
    "    original_list.append(z)\n",
    "print(f\"the original_list is {original_list}\")\n",
    "\n",
    "original_list.sort()\n",
    "ascending_list=original_list.copy()\n",
    "print(f\"the ascending_list is {ascending_list}\")\n",
    "\n",
    "original_list.sort(reverse=True)\n",
    "decending_list=original_list.copy()\n",
    "print(f\"the decending_list is {decending_list}\")"
   ]
  },
  {
   "cell_type": "markdown",
   "id": "cee45641-c0d1-4141-93a4-31195b2fcaa9",
   "metadata": {},
   "source": [
    "5. Accept size n from user and create a n size List then take n inputs into the and finally \n",
    "   Print the sum of all elements in the List in the following manner\n",
    "   10 + 20 + 30 = 60"
   ]
  },
  {
   "cell_type": "code",
   "execution_count": 31,
   "id": "cbf0e405-1898-46dd-b4c7-51fdcd7d5d0c",
   "metadata": {},
   "outputs": [
    {
     "name": "stdin",
     "output_type": "stream",
     "text": [
      "enter a how many number do you want to enter:  4\n",
      "enter numbers:  1\n",
      "enter numbers:  2\n",
      "enter numbers:  3\n",
      "enter numbers:  4\n"
     ]
    },
    {
     "name": "stdout",
     "output_type": "stream",
     "text": [
      "the list : [1, 2, 3, 4]\n",
      "1 + 2 + 3 + 4 = 10\n"
     ]
    }
   ],
   "source": [
    "n=int(input(\"enter a how many number do you want to enter: \"))\n",
    "list=[]\n",
    "for i in range(n):\n",
    "    z=int(input(\"enter numbers: \"))\n",
    "    list.append(z)\n",
    "print(f\"the list : {list}\")\n",
    "sum=0\n",
    "for i in range(len(list)):\n",
    "    sum=sum+list[i]\n",
    "expression = \" + \".join(map(str,list))\n",
    "print(f\"{expression} = {sum}\")"
   ]
  },
  {
   "cell_type": "markdown",
   "id": "77bc3a1d-0a63-4d89-9732-f00e6c6772e1",
   "metadata": {},
   "source": [
    "6. Mean of List elements."
   ]
  },
  {
   "cell_type": "code",
   "execution_count": 40,
   "id": "96cbd943-a464-4807-b317-a070c56e5a42",
   "metadata": {},
   "outputs": [
    {
     "name": "stdin",
     "output_type": "stream",
     "text": [
      "enter a how many number do you want to enter:  4\n",
      "enter numbers:  1\n",
      "enter numbers:  2\n",
      "enter numbers:  3\n",
      "enter numbers:  4\n"
     ]
    },
    {
     "name": "stdout",
     "output_type": "stream",
     "text": [
      "the list : [1, 2, 3, 4]\n",
      "the mean is 2.5\n"
     ]
    }
   ],
   "source": [
    "n=int(input(\"enter a how many number do you want to enter: \"))\n",
    "list=[]\n",
    "for i in range(n):\n",
    "    z=int(input(\"enter numbers: \"))\n",
    "    list.append(z)\n",
    "print(f\"the list : {list}\")\n",
    "sum=0\n",
    "for i in range(len(list)):\n",
    "    sum=sum+list[i]\n",
    "mean=sum/len(list)\n",
    "print(f\"the mean is {mean}\")"
   ]
  },
  {
   "cell_type": "markdown",
   "id": "ed11e0a2-3bc5-4545-812f-dbbbc1ab2089",
   "metadata": {},
   "source": [
    "7.  Find the greatest element and print its index too.\n",
    "   {2, 96, 69, 77, 145, 20} = Max element = 145 found at 4 index\n"
   ]
  },
  {
   "cell_type": "code",
   "execution_count": 51,
   "id": "547dfefa-440c-4644-9d67-7cc99a3bc325",
   "metadata": {},
   "outputs": [
    {
     "name": "stdin",
     "output_type": "stream",
     "text": [
      "enter a how many number do you want to enter:  4\n",
      "enter numbers:  4\n",
      "enter numbers:  5\n",
      "enter numbers:  2\n",
      "enter numbers:  1\n"
     ]
    },
    {
     "name": "stdout",
     "output_type": "stream",
     "text": [
      "the list : [4, 5, 2, 1]\n",
      "the max element is 5 at the index of 1\n"
     ]
    }
   ],
   "source": [
    "n=int(input(\"enter a how many number do you want to enter: \"))\n",
    "list=[]\n",
    "max=0\n",
    "for i in range(n):\n",
    "    z=int(input(\"enter numbers: \"))\n",
    "    list.append(z)\n",
    "print(f\"the list : {list}\")\n",
    "for i in list:\n",
    "    if i>max:\n",
    "        max=i\n",
    "        max_index=list.index(max)\n",
    "print(f\"the max element is {max} at the index of {max_index}\")"
   ]
  },
  {
   "cell_type": "markdown",
   "id": "8b663762-63db-4a4d-97e7-e7e7623367fd",
   "metadata": {},
   "source": [
    "8. Find the smallest element and print its index too.\n",
    "   {2, 96, 69, 77, 145, 20} = Min element = 2 found at 0 index\n"
   ]
  },
  {
   "cell_type": "code",
   "execution_count": 62,
   "id": "ff9b1e1f-3cc9-46e8-bd81-755ad29afef6",
   "metadata": {},
   "outputs": [
    {
     "name": "stdin",
     "output_type": "stream",
     "text": [
      "Enter how many numbers you want to enter:  4\n",
      "Enter a number:  3\n",
      "Enter a number:  2\n",
      "Enter a number:  4\n",
      "Enter a number:  8\n"
     ]
    },
    {
     "name": "stdout",
     "output_type": "stream",
     "text": [
      "The list: [3, 2, 4, 8]\n",
      "The min element is 2 at the index of 1\n"
     ]
    }
   ],
   "source": [
    "n = int(input(\"Enter how many numbers you want to enter: \"))\n",
    "numbers_list = []\n",
    "for i in range(n):\n",
    "    z = int(input(\"Enter a number: \"))\n",
    "    numbers_list.append(z)\n",
    "print(f\"The list: {numbers_list}\")\n",
    "\n",
    "min_element = numbers_list[0]  \n",
    "min_index = 0\n",
    "\n",
    "for i in range(1, n):\n",
    "    if numbers_list[i] < min_element:\n",
    "        min_element = numbers_list[i]\n",
    "        min_index = i\n",
    "\n",
    "\n",
    "print(f\"The min element is {min_element} at the index of {min_index}\")"
   ]
  },
  {
   "cell_type": "markdown",
   "id": "3b5ea99a-092d-4137-8441-a95ae73d2a95",
   "metadata": {},
   "source": [
    "9. Find the second greatest element0 \n",
    "   {2, 96, 69, 77, 145, 20} = Second greatest element = 96\n"
   ]
  },
  {
   "cell_type": "code",
   "execution_count": 11,
   "id": "7df47bf1-0621-4720-b1a7-0cf9c67017fe",
   "metadata": {},
   "outputs": [
    {
     "name": "stdin",
     "output_type": "stream",
     "text": [
      "Enter how many numbers you want to enter:  6\n",
      "Enter a number:  2\n",
      "Enter a number:  96\n",
      "Enter a number:  69\n",
      "Enter a number:  77\n",
      "Enter a number:  145\n",
      "Enter a number:  20\n"
     ]
    },
    {
     "name": "stdout",
     "output_type": "stream",
     "text": [
      "The list: [2, 96, 69, 77, 145, 20]\n",
      "your 2nd max element is 96 at index 1\n"
     ]
    }
   ],
   "source": [
    "n = int(input(\"Enter how many numbers you want to enter: \"))\n",
    "l = []\n",
    "for i in range(n):\n",
    "    z = int(input(\"Enter a number: \"))\n",
    "    l.append(z)\n",
    "print(f\"The list: {l}\")\n",
    "max=l[0]\n",
    "max2=l[0]\n",
    "index = 0\n",
    "index2 = 0\n",
    "for i in range(len(l)):\n",
    "    if l[i]>max:\n",
    "        max2=max\n",
    "        index2=index\n",
    "        max=l[i]\n",
    "        index=i\n",
    "    elif l[i]>max2:\n",
    "        max2=l[i]\n",
    "        index2=i\n",
    "print(f\"your 2nd max element is {max2} at index {index2}\")\n"
   ]
  },
  {
   "cell_type": "markdown",
   "id": "09308b92-250b-432a-bc9b-b74027f93c86",
   "metadata": {},
   "source": [
    "10. Check if List is sorted or not."
   ]
  },
  {
   "cell_type": "code",
   "execution_count": 2,
   "id": "281297e1-a985-4f5c-8e69-6524d6b386c6",
   "metadata": {},
   "outputs": [
    {
     "name": "stdin",
     "output_type": "stream",
     "text": [
      "please tell how many numbers you want:  4\n",
      "please tell your number:  1\n",
      "please tell your number:  2\n",
      "please tell your number:  3\n",
      "please tell your number:  4\n"
     ]
    },
    {
     "name": "stdout",
     "output_type": "stream",
     "text": [
      "[1, 2, 3, 4]\n",
      "your list is sorted\n"
     ]
    }
   ],
   "source": [
    "l=int(input('please tell how many numbers you want: '))\n",
    "a=[]\n",
    "for i in range(l):\n",
    "    z=int(input(\"please tell your number: \"))\n",
    "    a.append(z)\n",
    "print(a)\n",
    "for i in range(0,len(a)-1):\n",
    "    if a[i] <= a[i+1]:\n",
    "        continue\n",
    "    else:\n",
    "        print(\"your list is not sorted\")\n",
    "else:\n",
    "    print(\"your list is sorted\")"
   ]
  },
  {
   "cell_type": "markdown",
   "id": "96a80f09-88ca-45ac-a4c2-0101edff06be",
   "metadata": {},
   "source": [
    "11. Pallindromic List - Write a program to check if elements of an List are same or not it read from front or bacExample : arr= [2,3,15,15,3,2]"
   ]
  },
  {
   "cell_type": "code",
   "execution_count": 6,
   "id": "a8c09e16-a122-4625-8f50-d7e36286ac3e",
   "metadata": {},
   "outputs": [
    {
     "name": "stdin",
     "output_type": "stream",
     "text": [
      "please tell how many numbers you want:  4\n",
      "please tell your number:  1\n",
      "please tell your number:  2\n",
      "please tell your number:  3\n",
      "please tell your number:  4\n"
     ]
    },
    {
     "name": "stdout",
     "output_type": "stream",
     "text": [
      "[1, 2, 3, 4]\n",
      "list is not pallindrome\n"
     ]
    }
   ],
   "source": [
    "l=int(input('please tell how many numbers you want: '))\n",
    "a=[]\n",
    "for i in range(l):\n",
    "    z=int(input(\"please tell your number: \"))\n",
    "    a.append(z)\n",
    "print(a)\n",
    "j=len(a)-1\n",
    "for i in range(len(a)//2):\n",
    "    if a[i]==a[j]:\n",
    "        j-=1\n",
    "        continue\n",
    "    else:\n",
    "        print(\"list is not pallindrome\")\n",
    "        break\n",
    "else:\n",
    "    print(\"list is pallindrone\")\n"
   ]
  },
  {
   "cell_type": "code",
   "execution_count": null,
   "id": "e2a9b4d7-5b64-437e-94ec-a43e6b09271b",
   "metadata": {},
   "outputs": [],
   "source": []
  }
 ],
 "metadata": {
  "kernelspec": {
   "display_name": "Python 3 (ipykernel)",
   "language": "python",
   "name": "python3"
  },
  "language_info": {
   "codemirror_mode": {
    "name": "ipython",
    "version": 3
   },
   "file_extension": ".py",
   "mimetype": "text/x-python",
   "name": "python",
   "nbconvert_exporter": "python",
   "pygments_lexer": "ipython3",
   "version": "3.11.7"
  }
 },
 "nbformat": 4,
 "nbformat_minor": 5
}
